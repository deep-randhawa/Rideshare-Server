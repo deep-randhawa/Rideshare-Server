{
 "cells": [
  {
   "cell_type": "code",
   "execution_count": 1,
   "metadata": {
    "collapsed": true
   },
   "outputs": [],
   "source": [
    "import json, requests, names, time, random\n",
    "from random import randint\n",
    "\n",
    "headers = {\"Content-Type\": \"application/json\", \"access_token\": \"CAACEdEose0cBAFneVevY5b02JOpQESzNkU70OYmLHdAaF9QgYGuhRNBdeGzeCBDimzx12AhatUGC3FZBv7gp4NKAfHiZBpOLjxl7DMTfZCMEluzdUAg4fRtKBpIc3Pzp81UkjBX1oDCZAFzIVTWtrrAfswv5yCj6ZC8JGYxvBeWtgPeLjA0doCiauzTVXVgAQPCm01camqBy2KqAn1e4HCzCvE1ZBaofYZD\"}"
   ]
  },
  {
   "cell_type": "code",
   "execution_count": 9,
   "metadata": {
    "collapsed": false
   },
   "outputs": [],
   "source": [
    "providers = ['unknown', 'twitter', 'facebook', 'google']\n",
    "session = requests.Session()\n",
    "login = session.get('https://deep-rideshare-server.herokuapp.com/login/facebook', headers=headers)\n",
    "\n",
    "for i in range(1, 2):\n",
    "    data = {}\n",
    "    data['user_id'] = random.randint(100000000000000,999999999999999)\n",
    "    data['name'] = str(names.get_full_name())\n",
    "    data['provider'] = random.choice(providers)\n",
    "\n",
    "    session.post('https://deep-rideshare-server.herokuapp.com/user', data=json.dumps(data), headers=headers)\n",
    "    time.sleep(0.1)"
   ]
  },
  {
   "cell_type": "code",
   "execution_count": 7,
   "metadata": {
    "collapsed": false
   },
   "outputs": [
    {
     "data": {
      "text/plain": [
       "u'OK'"
      ]
     },
     "execution_count": 7,
     "metadata": {},
     "output_type": "execute_result"
    }
   ],
   "source": [
    "login.text"
   ]
  },
  {
   "cell_type": "code",
   "execution_count": null,
   "metadata": {
    "collapsed": true
   },
   "outputs": [],
   "source": []
  }
 ],
 "metadata": {
  "kernelspec": {
   "display_name": "Python 2",
   "language": "python",
   "name": "python2"
  },
  "language_info": {
   "codemirror_mode": {
    "name": "ipython",
    "version": 2
   },
   "file_extension": ".py",
   "mimetype": "text/x-python",
   "name": "python",
   "nbconvert_exporter": "python",
   "pygments_lexer": "ipython2",
   "version": "2.7.10"
  }
 },
 "nbformat": 4,
 "nbformat_minor": 0
}
