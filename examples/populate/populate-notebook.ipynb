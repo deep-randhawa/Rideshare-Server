{
 "cells": [
  {
   "cell_type": "code",
   "execution_count": 53,
   "metadata": {
    "collapsed": true
   },
   "outputs": [],
   "source": [
    "import json, requests, names, time, random\n",
    "from random import randint\n",
    "\n",
    "headers = {\"Content-Type\": \"application/json\", \"access_token\": \"CAACEdEose0cBAFneVevY5b02JOpQESzNkU70OYmLHdAaF9QgYGuhRNBdeGzeCBDimzx12AhatUGC3FZBv7gp4NKAfHiZBpOLjxl7DMTfZCMEluzdUAg4fRtKBpIc3Pzp81UkjBX1oDCZAFzIVTWtrrAfswv5yCj6ZC8JGYxvBeWtgPeLjA0doCiauzTVXVgAQPCm01camqBy2KqAn1e4HCzCvE1ZBaofYZD\"}"
   ]
  },
  {
   "cell_type": "code",
   "execution_count": 54,
   "metadata": {
    "collapsed": true
   },
   "outputs": [],
   "source": [
    "def strTimeProp(start, end, format, prop):\n",
    "    \"\"\"Get a time at a proportion of a range of two formatted times.\n",
    "\n",
    "    start and end should be strings specifying times formated in the\n",
    "    given format (strftime-style), giving an interval [start, end].\n",
    "    prop specifies how a proportion of the interval to be taken after\n",
    "    start.  The returned time will be in the specified format.\n",
    "    \"\"\"\n",
    "\n",
    "    stime = time.mktime(time.strptime(start, format))\n",
    "    etime = time.mktime(time.strptime(end, format))\n",
    "\n",
    "    ptime = stime + prop * (etime - stime)\n",
    "\n",
    "    return time.strftime(format, time.localtime(ptime))\n",
    "\n",
    "\n",
    "def randomDate(start, end, prop):\n",
    "    return strTimeProp(start, end, '%m/%d/%Y %I:%M %p', prop)"
   ]
  },
  {
   "cell_type": "code",
   "execution_count": 56,
   "metadata": {
    "collapsed": false
   },
   "outputs": [],
   "source": [
    "providers = ['unknown', 'twitter', 'facebook', 'google']\n",
    "session = requests.Session()\n",
    "login = session.post('http://localhost:5000/login/facebook', headers=headers)\n",
    "\n",
    "for i in range(1, 11):\n",
    "    data = {}\n",
    "    data['user_id'] = random.randint(100000000000000,999999999999999)\n",
    "    data['name'] = str(names.get_full_name())\n",
    "    data['provider'] = random.choice(providers)\n",
    "\n",
    "    session.post('http://localhost:5000/user', data=json.dumps(data), headers=headers)\n",
    "    time.sleep(0.1)"
   ]
  },
  {
   "cell_type": "code",
   "execution_count": null,
   "metadata": {
    "collapsed": true
   },
   "outputs": [],
   "source": []
  }
 ],
 "metadata": {
  "kernelspec": {
   "display_name": "Python 2",
   "language": "python",
   "name": "python2"
  },
  "language_info": {
   "codemirror_mode": {
    "name": "ipython",
    "version": 2
   },
   "file_extension": ".py",
   "mimetype": "text/x-python",
   "name": "python",
   "nbconvert_exporter": "python",
   "pygments_lexer": "ipython2",
   "version": "2.7.10"
  }
 },
 "nbformat": 4,
 "nbformat_minor": 0
}
